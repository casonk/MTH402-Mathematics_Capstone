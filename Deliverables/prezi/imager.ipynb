{
 "cells": [
  {
   "cell_type": "code",
   "execution_count": 227,
   "metadata": {},
   "outputs": [],
   "source": [
    "import numpy as np\n",
    "import networkx as nx\n",
    "import matplotlib.cm as cm\n",
    "import matplotlib.pyplot as plt\n",
    "import matplotlib.animation as animation\n",
    "from matplotlib.animation import FuncAnimation\n",
    "from celluloid import Camera\n",
    "\n",
    "import warnings\n",
    "warnings.filterwarnings(\"ignore\")\n",
    "\n",
    "def calc_Q(G):\n",
    "    m = sum(sum(G))\n",
    "    inner_sum = 0\n",
    "    for i in range(len(G)):\n",
    "        A_i_i  = G[i,i]\n",
    "        k_i_out = sum(G[i])\n",
    "        k_i_in  = sum(G.T[i])\n",
    "        inner_sum += (A_i_i - ((k_i_out*k_i_in)/m))\n",
    "\n",
    "    return inner_sum / m\n",
    "    \n",
    "def G2E(G):\n",
    "    E = G / sum(sum(G))\n",
    "    # m = sum(sum(G))\n",
    "    # E = np.zeros_like(G, dtype='float64')\n",
    "    # e_i_j = \n",
    "    return E\n",
    "\n",
    "def calc__Q(E):\n",
    "    inner_sum = 0\n",
    "    for i in range(len(E)):\n",
    "        e_i_i  = E[i,i]\n",
    "        a_i = sum(E[i])\n",
    "        inner_sum += (e_i_i - a_i*a_i)\n",
    "    return inner_sum\n",
    "\n",
    "ex_graph = np.array([[1 ,0 ,0 ,1 ,1 ,0 ],[0 ,1 ,1 ,0 ,0 ,0 ],[0 ,0 ,0 ,0 ,1 ,1 ],[1 ,0 ,0 ,1 ,0 ,0 ],[1 ,0 ,0 ,1 ,0 ,0 ],[0 ,1 ,1 ,0 ,0 ,1 ]])\n",
    "ex_labels = np.array([['aa','ab','ac','ad','ae','af'],['ba','bb','bc','bd','be','bf'],['ca','cb','cc','cd','ce','cf'],['da','db','dc','dd','de','df'],['ea','eb','ec','ed','ee','ef'],['fa','fb','fc','fd','fe','ff']])"
   ]
  },
  {
   "cell_type": "code",
   "execution_count": 228,
   "metadata": {},
   "outputs": [],
   "source": [
    "def naive_greedy_itteration(G, Q, L):\n",
    "    best_delta_Q = -1\n",
    "    G_prime = np.array([])\n",
    "    qG = np.zeros_like(G, dtype='float64')\n",
    "    node_i = 0\n",
    "    node_j = 0\n",
    "    for i in range(len(G)):\n",
    "        for j in range(len(G)):\n",
    "            if i >= j:\n",
    "                continue\n",
    "            prefix = G[0:i,:]\n",
    "            join = (G[i,:] + G[j,:]).reshape(1,len(G))\n",
    "            interim = G[i+1:j,:]\n",
    "            postfix = G[j+1:,:]\n",
    "            if prefix.shape == (0,len(G)):\n",
    "                cj = np.vstack((join, interim, postfix))\n",
    "            elif interim.shape == (0,len(G)):\n",
    "                cj = np.vstack((prefix, join, postfix))\n",
    "            elif postfix.shape == (0,len(G)):\n",
    "                cj = np.vstack((prefix, join, interim))\n",
    "                \n",
    "            prefix = cj[:,0:i]\n",
    "            join = (cj[:,i] + cj[:,j]).reshape(len(cj),1)\n",
    "            interim = cj[:,i+1:j]\n",
    "            postfix = cj[:,j+1:]\n",
    "            if prefix.shape == (len(cj),0):\n",
    "                crj = np.hstack((join, interim, postfix))\n",
    "            if interim.shape == (len(cj),0):\n",
    "                crj = np.hstack((prefix, join, postfix))\n",
    "            if postfix.shape == (len(cj),0):\n",
    "                crj = np.hstack((prefix, join, interim))\n",
    "            \n",
    "            delta_Q = calc_Q(crj) - Q\n",
    "            qG[i,j] = delta_Q\n",
    "            qG[j,i] = delta_Q\n",
    "            if delta_Q > best_delta_Q:\n",
    "                best_delta_Q = delta_Q\n",
    "                G_prime = crj\n",
    "                best_i = i\n",
    "                node_i = L[0][i][1]\n",
    "                best_j = j\n",
    "                node_j = L[0][j][1]\n",
    "\n",
    "    L = np.delete(L, best_j, 0)\n",
    "    L = np.delete(L, best_j, 1)\n",
    "    H = np.zeros_like(G)\n",
    "    H[best_i,:] = np.ones_like(G[best_i,:])\n",
    "    H[:,best_i] = np.ones_like(G[:,best_i])\n",
    "    H[best_j,:] = np.ones_like(G[best_j,:])\n",
    "    H[:,best_j] = np.ones_like(G[:,best_j])\n",
    "\n",
    "    return G_prime, L, H, qG"
   ]
  },
  {
   "cell_type": "code",
   "execution_count": 229,
   "metadata": {},
   "outputs": [],
   "source": [
    "G_prime, L, H, qG = naive_greedy_itteration(ex_graph, calc_Q(ex_graph), ex_labels)"
   ]
  },
  {
   "cell_type": "code",
   "execution_count": 230,
   "metadata": {},
   "outputs": [],
   "source": [
    "G = nx.from_numpy_array(ex_graph)"
   ]
  },
  {
   "cell_type": "code",
   "execution_count": 231,
   "metadata": {},
   "outputs": [],
   "source": [
    "# modu = {}\n",
    "modu = []\n",
    "for E in G.edges():\n",
    "    # modu[E[0],E[1]] = qG[E[0]][E[1]]\n",
    "    modu += [qG[E[0]][E[1]]]"
   ]
  },
  {
   "cell_type": "code",
   "execution_count": 232,
   "metadata": {},
   "outputs": [],
   "source": [
    "# nx.set_edge_attributes(G, modu, \"modu\")\n",
    "# nx.get_edge_attributes(G, \"modu\")"
   ]
  },
  {
   "cell_type": "code",
   "execution_count": 233,
   "metadata": {},
   "outputs": [],
   "source": [
    "cmap = cm.get_cmap('bwr', 100)\n",
    "p = nx.spring_layout(G)"
   ]
  },
  {
   "cell_type": "code",
   "execution_count": 234,
   "metadata": {},
   "outputs": [
    {
     "data": {
      "text/plain": [
       "<matplotlib.collections.PathCollection at 0x21d5b557910>"
      ]
     },
     "execution_count": 234,
     "metadata": {},
     "output_type": "execute_result"
    },
    {
     "data": {
      "image/png": "[encoded data removed]",
      "text/plain": [
       "<Figure size 432x288 with 1 Axes>"
      ]
     },
     "metadata": {},
     "output_type": "display_data"
    }
   ],
   "source": [
    "nx.draw_networkx_edges(G, pos=p, edgelist=G.edges(), width=list(nx.get_edge_attributes(G, \"weight\").values()), edge_color=[cmap(c*100) for c in modu], edge_cmap=cmap)\n",
    "nx.draw_networkx_nodes(G, pos=p, node_size=50, node_color=['black' for node in G.nodes()], alpha=0.75)"
   ]
  },
  {
   "cell_type": "code",
   "execution_count": 235,
   "metadata": {},
   "outputs": [
    {
     "data": {
      "text/plain": [
       "<matplotlib.collections.PathCollection at 0x21d5b5d2b90>"
      ]
     },
     "execution_count": 235,
     "metadata": {},
     "output_type": "execute_result"
    },
    {
     "data": {
      "image/png": "[encoded data removed]",
      "text/plain": [
       "<Figure size 432x288 with 1 Axes>"
      ]
     },
     "metadata": {},
     "output_type": "display_data"
    }
   ],
   "source": [
    "G_prime, L, H, qG = naive_greedy_itteration(ex_graph, calc_Q(ex_graph), ex_labels)\n",
    "G = nx.from_numpy_array(G_prime)\n",
    "# p = nx.spring_layout(G)\n",
    "G_prime, L, H, qG = naive_greedy_itteration(G_prime, calc_Q(G_prime), L)\n",
    "modu = []\n",
    "for E in G.edges():\n",
    "    modu += [qG[E[0]][E[1]]]\n",
    "nx.draw_networkx_edges(G, pos=p, edgelist=G.edges(), width=list(nx.get_edge_attributes(G, \"weight\").values()), edge_color=[cmap(c*100) for c in modu], edge_cmap=cmap)\n",
    "nx.draw_networkx_nodes(G, pos=p, node_size=50, node_color=['black' for node in G.nodes()], alpha=0.75)"
   ]
  },
  {
   "cell_type": "code",
   "execution_count": 236,
   "metadata": {},
   "outputs": [
    {
     "data": {
      "text/plain": [
       "<matplotlib.collections.PathCollection at 0x21d5b63a740>"
      ]
     },
     "execution_count": 236,
     "metadata": {},
     "output_type": "execute_result"
    },
    {
     "data": {
      "image/png": "[encoded data removed]",
      "text/plain": [
       "<Figure size 432x288 with 1 Axes>"
      ]
     },
     "metadata": {},
     "output_type": "display_data"
    }
   ],
   "source": [
    "G = nx.from_numpy_array(G_prime)\n",
    "# p = nx.spring_layout(G)\n",
    "G_prime, L, H, qG = naive_greedy_itteration(G_prime, calc_Q(G_prime), L)\n",
    "modu = []\n",
    "for E in G.edges():\n",
    "    modu += [qG[E[0]][E[1]]]\n",
    "nx.draw_networkx_edges(G, pos=p, edgelist=G.edges(), width=list(nx.get_edge_attributes(G, \"weight\").values()), edge_color=[cmap(c*100) for c in modu], edge_cmap=cmap)\n",
    "nx.draw_networkx_nodes(G, pos=p, node_size=50, node_color=['black' for node in G.nodes()], alpha=0.75)"
   ]
  },
  {
   "cell_type": "code",
   "execution_count": 237,
   "metadata": {},
   "outputs": [
    {
     "data": {
      "text/plain": [
       "<matplotlib.collections.PathCollection at 0x21d5b6a91b0>"
      ]
     },
     "execution_count": 237,
     "metadata": {},
     "output_type": "execute_result"
    },
    {
     "data": {
      "image/png": "[encoded data removed]",
      "text/plain": [
       "<Figure size 432x288 with 1 Axes>"
      ]
     },
     "metadata": {},
     "output_type": "display_data"
    }
   ],
   "source": [
    "G = nx.from_numpy_array(G_prime)\n",
    "# p = nx.spring_layout(G)\n",
    "G_prime, L, H, qG = naive_greedy_itteration(G_prime, calc_Q(G_prime), L)\n",
    "modu = []\n",
    "for E in G.edges():\n",
    "    modu += [qG[E[0]][E[1]]]\n",
    "nx.draw_networkx_edges(G, pos=p, edgelist=G.edges(), width=list(nx.get_edge_attributes(G, \"weight\").values()), edge_color=[cmap(c*100) for c in modu], edge_cmap=cmap)\n",
    "nx.draw_networkx_nodes(G, pos=p, node_size=50, node_color=['black' for node in G.nodes()], alpha=0.75)"
   ]
  },
  {
   "cell_type": "code",
   "execution_count": 238,
   "metadata": {},
   "outputs": [
    {
     "data": {
      "text/plain": [
       "<matplotlib.collections.PathCollection at 0x21d5b6f12a0>"
      ]
     },
     "execution_count": 238,
     "metadata": {},
     "output_type": "execute_result"
    },
    {
     "data": {
      "image/png": "[encoded data removed]",
      "text/plain": [
       "<Figure size 432x288 with 1 Axes>"
      ]
     },
     "metadata": {},
     "output_type": "display_data"
    }
   ],
   "source": [
    "G = nx.from_numpy_array(G_prime)\n",
    "# p = nx.spring_layout(G)\n",
    "G_prime, L, H, qG = naive_greedy_itteration(G_prime, calc_Q(G_prime), L)\n",
    "modu = []\n",
    "for E in G.edges():\n",
    "    modu += [qG[E[0]][E[1]]]\n",
    "nx.draw_networkx_edges(G, pos=p, edgelist=G.edges(), width=list(nx.get_edge_attributes(G, \"weight\").values()), edge_color=[cmap(c*100) for c in modu], edge_cmap=cmap)\n",
    "nx.draw_networkx_nodes(G, pos=p, node_size=50, node_color=['black' for node in G.nodes()], alpha=0.75)"
   ]
  },
  {
   "cell_type": "code",
   "execution_count": 252,
   "metadata": {},
   "outputs": [],
   "source": [
    "def naive_greedy_itteration(G, Q):\n",
    "    best_delta_Q = -1\n",
    "    G_prime = np.array([])\n",
    "    qG = np.zeros_like(G, dtype='float64')\n",
    "    for i in range(len(G)):\n",
    "        for j in range(len(G)):\n",
    "            if i >= j:\n",
    "                continue\n",
    "            prefix = G[0:i,:]\n",
    "            join = (G[i,:] + G[j,:]).reshape(1,len(G))\n",
    "            interim = G[i+1:j,:]\n",
    "            postfix = G[j+1:,:]\n",
    "            if prefix.shape == (0,len(G)):\n",
    "                cj = np.vstack((join, interim, postfix))\n",
    "            elif interim.shape == (0,len(G)):\n",
    "                cj = np.vstack((prefix, join, postfix))\n",
    "            elif postfix.shape == (0,len(G)):\n",
    "                cj = np.vstack((prefix, join, interim))\n",
    "            prefix = cj[:,0:i]\n",
    "            join = (cj[:,i] + cj[:,j]).reshape(len(cj),1)\n",
    "            interim = cj[:,i+1:j]\n",
    "            postfix = cj[:,j+1:]\n",
    "            if prefix.shape == (len(cj),0):\n",
    "                crj = np.hstack((join, interim, postfix))\n",
    "            if interim.shape == (len(cj),0):\n",
    "                crj = np.hstack((prefix, join, postfix))\n",
    "            if postfix.shape == (len(cj),0):\n",
    "                crj = np.hstack((prefix, join, interim))\n",
    "            delta_Q = calc_Q(crj) - Q\n",
    "            qG[i,j] = delta_Q\n",
    "            qG[j,i] = delta_Q            \n",
    "            if delta_Q > best_delta_Q:\n",
    "                best_delta_Q = delta_Q\n",
    "                G_prime = crj\n",
    "    Q_ = Q + best_delta_Q\n",
    "    return G_prime, Q_, qG"
   ]
  },
  {
   "cell_type": "code",
   "execution_count": 321,
   "metadata": {},
   "outputs": [],
   "source": [
    "N = 50\n",
    "np.random.seed(123)\n",
    "b = np.random.randint(low=-1,high=1,size=(N,N)) / 10\n",
    "G_ = (b + b.T)\n",
    "Q_ = calc_Q(G_)"
   ]
  },
  {
   "cell_type": "code",
   "execution_count": 428,
   "metadata": {},
   "outputs": [
    {
     "data": {
      "image/png": "[encoded data removed]",
      "text/plain": [
       "<Figure size 1152x648 with 1 Axes>"
      ]
     },
     "metadata": {},
     "output_type": "display_data"
    }
   ],
   "source": [
    "fig = plt.figure(figsize=(16,9))\n",
    "camera = Camera(fig)\n",
    "\n",
    "G_prime, Q_, qG = naive_greedy_itteration(G_, Q_)\n",
    "G = nx.from_numpy_array(G_)\n",
    "p = nx.spring_layout(G)\n",
    "# G_prime, Q_, qG = naive_greedy_itteration(G_, Q_)\n",
    "modu = []\n",
    "for E in G.edges():\n",
    "    modu += [qG[E[0]][E[1]]]\n",
    "nx.draw_networkx_edges(G, pos=p, edgelist=G.edges(), width=list(nx.get_edge_attributes(G, \"weight\").values()), edge_color=[cmap(c*1000) for c in modu], edge_cmap=cmap, alpha=0.25)\n",
    "nx.draw_networkx_nodes(G, pos=p, node_size=50, node_color=['black' for node in G.nodes()], alpha=0.75)\n",
    "camera.snap()\n",
    "\n",
    "while True:\n",
    "    try:\n",
    "        G = nx.from_numpy_array(G_prime)\n",
    "        G_prime, Q_, qG = naive_greedy_itteration(G_prime, Q_)\n",
    "        # G_prime, Q_, qG = naive_greedy_itteration(G_, Q_)\n",
    "        modu = []\n",
    "        for E in G.edges():\n",
    "            modu += [qG[E[0]][E[1]]]\n",
    "        nx.draw_networkx_edges(G, pos=p, edgelist=G.edges(), width=list(nx.get_edge_attributes(G, \"weight\").values()), edge_color=[cmap(c*1000) for c in modu], edge_cmap=cmap, alpha=0.25)\n",
    "        nx.draw_networkx_nodes(G, pos=p, node_size=50, node_color=['black' for node in G.nodes()], alpha=0.75)\n",
    "        camera.snap()\n",
    "    except:\n",
    "        break\n",
    "\n",
    "animation = camera.animate()\n",
    "animation.save('C:/OneDriveSchool_Personal/OneDrive - Umich/Math/Classes/Fall_2022/Capstone/Deliverables/prezi/test_50.gif', writer='imagemagick')"
   ]
  },
  {
   "cell_type": "code",
   "execution_count": 429,
   "metadata": {},
   "outputs": [],
   "source": [
    "N = 100\n",
    "np.random.seed(123)\n",
    "b = np.random.randint(low=-1,high=1,size=(N,N)) / 10\n",
    "G_ = (b + b.T)\n",
    "Q_ = calc_Q(G_)"
   ]
  },
  {
   "cell_type": "code",
   "execution_count": 430,
   "metadata": {},
   "outputs": [
    {
     "data": {
      "image/png": "[encoded data removed]",
      "text/plain": [
       "<Figure size 2304x1296 with 1 Axes>"
      ]
     },
     "metadata": {},
     "output_type": "display_data"
    }
   ],
   "source": [
    "fig = plt.figure(figsize=(32,18))\n",
    "camera = Camera(fig)\n",
    "\n",
    "G_prime, Q_, qG = naive_greedy_itteration(G_, Q_)\n",
    "G = nx.from_numpy_array(G_)\n",
    "p = nx.spring_layout(G)\n",
    "# G_prime, Q_, qG = naive_greedy_itteration(G_, Q_)\n",
    "modu = []\n",
    "for E in G.edges():\n",
    "    modu += [qG[E[0]][E[1]]]\n",
    "nx.draw_networkx_edges(G, pos=p, edgelist=G.edges(), width=list(nx.get_edge_attributes(G, \"weight\").values()), edge_color=[cmap(c*1000) for c in modu], edge_cmap=cmap, alpha=0.25)\n",
    "nx.draw_networkx_nodes(G, pos=p, node_size=50, node_color=['black' for node in G.nodes()], alpha=0.75)\n",
    "camera.snap()\n",
    "\n",
    "while True:\n",
    "    try:\n",
    "        G = nx.from_numpy_array(G_prime)\n",
    "        G_prime, Q_, qG = naive_greedy_itteration(G_prime, Q_)\n",
    "        # G_prime, Q_, qG = naive_greedy_itteration(G_, Q_)\n",
    "        modu = []\n",
    "        for E in G.edges():\n",
    "            modu += [qG[E[0]][E[1]]]\n",
    "        nx.draw_networkx_edges(G, pos=p, edgelist=G.edges(), width=list(nx.get_edge_attributes(G, \"weight\").values()), edge_color=[cmap(c*1000) for c in modu], edge_cmap=cmap, alpha=0.25)\n",
    "        nx.draw_networkx_nodes(G, pos=p, node_size=50, node_color=['black' for node in G.nodes()], alpha=0.75)\n",
    "        camera.snap()\n",
    "    except:\n",
    "        break\n",
    "\n",
    "animation = camera.animate()\n",
    "animation.save('C:/OneDriveSchool_Personal/OneDrive - Umich/Math/Classes/Fall_2022/Capstone/Deliverables/prezi/test_100.gif', writer='imagemagick')"
   ]
  },
  {
   "cell_type": "code",
   "execution_count": null,
   "metadata": {},
   "outputs": [],
   "source": []
  }
 ],
 "metadata": {
  "kernelspec": {
   "display_name": "Python 3",
   "language": "python",
   "name": "python3"
  },
  "language_info": {
   "codemirror_mode": {
    "name": "ipython",
    "version": 3
   },
   "file_extension": ".py",
   "mimetype": "text/x-python",
   "name": "python",
   "nbconvert_exporter": "python",
   "pygments_lexer": "ipython3",
   "version": "3.10.0 (tags/v3.10.0:b494f59, Oct  4 2021, 19:00:18) [MSC v.1929 64 bit (AMD64)]"
  },
  "orig_nbformat": 4,
  "vscode": {
   "interpreter": {
    "hash": "26de051ba29f2982a8de78e945f0abaf191376122a1563185a90213a26c5da77"
   }
  }
 },
 "nbformat": 4,
 "nbformat_minor": 2
}
